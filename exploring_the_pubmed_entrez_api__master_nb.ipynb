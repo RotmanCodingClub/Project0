{
 "cells": [
  {
   "cell_type": "markdown",
   "metadata": {},
   "source": [
    "# Grabbing Rotman Publication Data from Pubmed\n"
   ]
  },
  {
   "cell_type": "markdown",
   "metadata": {},
   "source": [
    "## Overview"
   ]
  },
  {
   "cell_type": "markdown",
   "metadata": {},
   "source": [
    "..."
   ]
  },
  {
   "cell_type": "markdown",
   "metadata": {},
   "source": [
    "## Notes"
   ]
  },
  {
   "cell_type": "markdown",
   "metadata": {},
   "source": [
    "    \n",
    "    \n",
    "[publications infographic here](http://www.immpressmagazine.com/109/)\n",
    "\n",
    "\n",
    "I like the picture on [this page](http://www.mydesignshop.com/infographic-design)\n",
    "\n",
    "Bokeh [annular wedge demo](http://bokeh.pydata.org/en/latest/docs/gallery/burtin.html) is cool\n",
    "\n",
    "\n",
    "\n",
    "Need to look over more of the [biopython documentation](http://biopython.org/DIST/docs/tutorial/Tutorial.html)\n",
    "\n",
    "\n",
    "...especially the [entrez stuff](http://biopython.org/DIST/docs/api/Bio.Entrez-module.html)\n",
    "\n",
    "(see also [here](https://www.ncbi.nlm.nih.gov/books/NBK25501/pdf/Bookshelf_NBK25501.pdf))\n",
    "\n",
    "\n",
    "\n",
    "as an aside, see data viz stuff [here](https://marcobonzanini.com/category/data-visualisation/)"
   ]
  },
  {
   "cell_type": "markdown",
   "metadata": {},
   "source": [
    "## Setup"
   ]
  },
  {
   "cell_type": "markdown",
   "metadata": {},
   "source": [
    "Importage"
   ]
  },
  {
   "cell_type": "code",
   "execution_count": 11,
   "metadata": {
    "collapsed": false
   },
   "outputs": [],
   "source": [
    "\n",
    "# Generic Imports\n",
    "\n",
    "import os,sys,glob,numpy as np\n",
    "\n",
    "\n",
    "\n",
    "\n",
    "# Visualization stuff\n",
    "\n",
    "%matplotlib inline\n",
    "from matplotlib import pyplot as plt\n",
    "import seaborn as sns\n",
    "\n",
    "\n",
    "# Analysis stuff\n",
    "\n",
    "import numpy as np\n",
    "import pandas as pd\n",
    "\n",
    "from Bio import Entrez"
   ]
  },
  {
   "cell_type": "markdown",
   "metadata": {},
   "source": [
    "Define some variables"
   ]
  },
  {
   "cell_type": "markdown",
   "metadata": {},
   "source": [
    "## Parsing Functions"
   ]
  },
  {
   "cell_type": "markdown",
   "metadata": {},
   "source": [
    "Define some functions for pulling and parsing data from pubmed"
   ]
  },
  {
   "cell_type": "code",
   "execution_count": 102,
   "metadata": {
    "collapsed": false
   },
   "outputs": [],
   "source": [
    "# you need to install Biopython:\n",
    "# pip install biopython\n",
    "\n",
    "# Full discussion:\n",
    "# https://marcobonzanini.wordpress.com/2015/01/12/searching-pubmed-with-python/\n",
    "\n",
    "def search(query,db='pubmed', sort='relevance', retmax='20',retmode='xml'):\n",
    "    Entrez.email = 'j.davidgriffiths@gmail.com',\n",
    "    handle = Entrez.esearch(db=db,sort=sort,retmax=retmax,retmode=retmode,term=query)\n",
    "    results = Entrez.read(handle)\n",
    "    return results\n",
    "\n",
    "def fetch_details(id_list, db='pubmed', retmode='xml'):\n",
    "    ids = ','.join(id_list)\n",
    "    Entrez.email = 'j.davidgriffiths@gmail.com',\n",
    "    handle = Entrez.efetch(db=db,retmode=retmode,id=ids)\n",
    "    results = Entrez.read(handle)\n",
    "    return results"
   ]
  },
  {
   "cell_type": "code",
   "execution_count": 95,
   "metadata": {
    "collapsed": false
   },
   "outputs": [],
   "source": [
    "def make_papers_df(papers):\n",
    "    \n",
    "  # NOTE: had to add in lots of shitty hacks to get this to not error on incomplete records\n",
    "  # There will be many superior ways of doing this. Needs a little playing around with the \n",
    "  # entrez api and the returned results to find best option\n",
    "  # #\n",
    "    \n",
    "  res = []\n",
    "  for p in papers:\n",
    "\n",
    "    art = p['MedlineCitation']['Article']\n",
    "    \n",
    "    # this is a shitty hack\n",
    "    if 'AuthorList' in art:\n",
    "        \n",
    "    \n",
    "      tit = art['ArticleTitle']    \n",
    "    \n",
    "      \"\"\"\n",
    "      # this is a shitty hack\n",
    "      if 'ForeName' in art['AuthorList'][0]: \n",
    "        n1 = art['AuthorList'][0]['ForeName']\n",
    "      else:\n",
    "        n1 = '????'\n",
    "    \n",
    "      if 'LastName' in art['AuthorList'][0]: \n",
    "        n2 = art['AuthorList'][0]['LastName']\n",
    "      else: \n",
    "        n2 = '????'\n",
    "      \"\"\"\n",
    "        \n",
    "      alist = art['AuthorList']\n",
    "      astr = ''\n",
    "      for a_it,a in enumerate(alist):\n",
    "        if 'ForeName' in a:\n",
    "          astr+= a['ForeName'] + ' ' + a['LastName'] + ','\n",
    "        elif 'CollectiveName' in a:\n",
    "          astr+= a['CollectiveName'] + ','\n",
    "      astr  = astr[:-1]\n",
    "        \n",
    "      dt = art['ArticleDate']\n",
    "    \n",
    "      # this is ia shitty hack\n",
    "      if len(dt)>0: \n",
    "        yr = dt[0]['Year']\n",
    "      else: \n",
    "        yr = np.nan\n",
    "             \n",
    "      res.append([tit,astr,yr])\n",
    "\n",
    "    \n",
    "    df = pd.DataFrame(res) \n",
    "    df.columns = ['title', 'author_list', 'date']\n",
    "    df.columns.names = ['details']\n",
    "    df.index.names = ['record num']\n",
    "    \n",
    "  return df"
   ]
  },
  {
   "cell_type": "markdown",
   "metadata": {},
   "source": [
    "## Parsing - first attempt"
   ]
  },
  {
   "cell_type": "code",
   "execution_count": 103,
   "metadata": {
    "collapsed": true
   },
   "outputs": [],
   "source": [
    "results = search('\"Rotman Research Institute\"[Affiliation]',retmax=50000)\n",
    "id_list = results['IdList']\n",
    "papers = fetch_details(id_list)['PubmedArticle'] # Had to add in this modification"
   ]
  },
  {
   "cell_type": "code",
   "execution_count": 104,
   "metadata": {
    "collapsed": false
   },
   "outputs": [],
   "source": [
    "df_papers = make_papers_df(papers)"
   ]
  },
  {
   "cell_type": "code",
   "execution_count": 106,
   "metadata": {
    "collapsed": false
   },
   "outputs": [],
   "source": [
    "df_papers.to_csv('entrez_rotman_papers_list.csv',encoding='utf-8')"
   ]
  },
  {
   "cell_type": "code",
   "execution_count": 107,
   "metadata": {
    "collapsed": true
   },
   "outputs": [],
   "source": [
    "df_papers.to_pickle('entrez_rotman_papers_list.pkl')#,encoding='utf-8')"
   ]
  },
  {
   "cell_type": "markdown",
   "metadata": {},
   "source": [
    "---\n",
    "\n",
    "\n",
    "Styling\n",
    "\n"
   ]
  },
  {
   "cell_type": "code",
   "execution_count": 1,
   "metadata": {
    "collapsed": true
   },
   "outputs": [],
   "source": [
    "def display_css(css_file):\n",
    "  from IPython.display import HTML,display\n",
    "  display(HTML(open(css_file, 'r').read()))"
   ]
  },
  {
   "cell_type": "code",
   "execution_count": 5,
   "metadata": {
    "collapsed": false
   },
   "outputs": [
    {
     "data": {
      "text/html": [
       "<link href='http://fonts.googleapis.com/css?family=Fenix' rel='stylesheet' type='text/css'>\n",
       "<link href='http://fonts.googleapis.com/css?family=Alegreya+Sans:100,300,400,500,700,800,900,100italic,300italic,400italic,500italic,700italic,800italic,900italic' rel='stylesheet' type='text/css'>\n",
       "<link href='http://fonts.googleapis.com/css?family=Source+Code+Pro:300,400' rel='stylesheet' type='text/css'>\n",
       "<style>\n",
       "    @font-face {\n",
       "        font-family: \"Computer Modern\";\n",
       "        src: url('http://mirrors.ctan.org/fonts/cm-unicode/fonts/otf/cmunss.otf');\n",
       "    }\n",
       "    div.cell{\n",
       "        width:800px;\n",
       "        margin-left:16% !important;\n",
       "        margin-right:auto;\n",
       "    }\n",
       "    h1 {\n",
       "        font-family: 'Alegreya Sans', sans-serif;\n",
       "    }\n",
       "    h2 {\n",
       "        font-family: 'Fenix', serif;\n",
       "    }\n",
       "    h3{\n",
       "\t\tfont-family: 'Fenix', serif;\n",
       "        margin-top:12px;\n",
       "        margin-bottom: 3px;\n",
       "       }\n",
       "\th4{\n",
       "\t\tfont-family: 'Fenix', serif;\n",
       "       }\n",
       "    h6 {\n",
       "        font-family: 'Alegreya Sans', sans-serif;\n",
       "    }\t   \n",
       "    div.text_cell_render{\n",
       "        font-family: 'Alegreya Sans',Computer Modern, \"Helvetica Neue\", Arial, Helvetica, Geneva, sans-serif;\n",
       "        line-height: 135%;\n",
       "        font-size: 120%;\n",
       "        width:700px;\n",
       "        margin-left:auto;\n",
       "        margin-right:auto;\n",
       "    }\n",
       "    .CodeMirror{\n",
       "            font-family: \"Source Code Pro\";\n",
       "\t\t\tfont-size: 90%;\n",
       "    }\n",
       "/*    .prompt{\n",
       "        display: None;\n",
       "    }*/\n",
       "    .text_cell_render h1 {\n",
       "        font-weight: 200;\n",
       "        font-size: 50pt;\n",
       "\t\tline-height: 100%;\n",
       "        color:#CD2305;\n",
       "        margin-bottom: 0.5em;\n",
       "        margin-top: 0.5em;\n",
       "        display: block;\n",
       "    }\t\n",
       "    .text_cell_render h6 {\n",
       "        font-weight: 300;\n",
       "        font-size: 10pt;\n",
       "        color: #191919;\n",
       "        font-style: italic;\n",
       "        margin-bottom: .5em;\n",
       "        margin-top: 0.5em;\n",
       "        display: block;\n",
       "    }\n",
       "    \n",
       "    .warning{\n",
       "        color: rgb( 240, 20, 20 )\n",
       "        }  \n",
       "</style>\n",
       "<script>\n",
       "    MathJax.Hub.Config({\n",
       "                        TeX: {\n",
       "                           extensions: [\"AMSmath.js\"]\n",
       "                           },\n",
       "                tex2jax: {\n",
       "                    inlineMath: [ ['$','$'], [\"\\\\(\",\"\\\\)\"] ],\n",
       "                    displayMath: [ ['$$','$$'], [\"\\\\[\",\"\\\\]\"] ]\n",
       "                },\n",
       "                displayAlign: 'center', // Change this to 'center' to center equations.\n",
       "                \"HTML-CSS\": {\n",
       "                    styles: {'.MathJax_Display': {\"margin\": 4}}\n",
       "                }\n",
       "        });\n",
       "</script>\n"
      ],
      "text/plain": [
       "<IPython.core.display.HTML object>"
      ]
     },
     "metadata": {},
     "output_type": "display_data"
    }
   ],
   "source": [
    "display_css('/home/jgriffiths/Code/libraries_of_mine/github/workdocs/masters/styles/CFDPython_css_modified_2.css')"
   ]
  }
 ],
 "metadata": {
  "anaconda-cloud": {},
  "kernelspec": {
   "display_name": "Python [default]",
   "language": "python",
   "name": "python2"
  },
  "language_info": {
   "codemirror_mode": {
    "name": "ipython",
    "version": 2
   },
   "file_extension": ".py",
   "mimetype": "text/x-python",
   "name": "python",
   "nbconvert_exporter": "python",
   "pygments_lexer": "ipython2",
   "version": "2.7.12"
  }
 },
 "nbformat": 4,
 "nbformat_minor": 0
}
